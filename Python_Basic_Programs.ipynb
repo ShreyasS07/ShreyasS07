{
  "nbformat": 4,
  "nbformat_minor": 0,
  "metadata": {
    "colab": {
      "name": "Python Basic Programs.ipynb",
      "provenance": [],
      "collapsed_sections": [],
      "authorship_tag": "ABX9TyOggvwheHS62wCkUSHaLUhS",
      "include_colab_link": true
    },
    "kernelspec": {
      "name": "python3",
      "display_name": "Python 3"
    },
    "language_info": {
      "name": "python"
    }
  },
  "cells": [
    {
      "cell_type": "markdown",
      "metadata": {
        "id": "view-in-github",
        "colab_type": "text"
      },
      "source": [
        "<a href=\"https://colab.research.google.com/github/ShreyasS07/ShreyasS07/blob/main/Python_Basic_Programs.ipynb\" target=\"_parent\"><img src=\"https://colab.research.google.com/assets/colab-badge.svg\" alt=\"Open In Colab\"/></a>"
      ]
    },
    {
      "cell_type": "markdown",
      "source": [
        "Python Basic Programs\n",
        " "
      ],
      "metadata": {
        "id": "Er2-14XjsKS0"
      }
    },
    {
      "cell_type": "code",
      "source": [
        "#Python3 program to add two numbers\n",
        "\n",
        "Num1=int(input(\"Enter the Number\"))\n",
        "Num2=int(input(\"Enter the Number\"))\n",
        "sum=Num1+Num2\n",
        "print(\"sum of {0} & {1} is {2}\".format(Num1,Num2,sum))"
      ],
      "metadata": {
        "colab": {
          "base_uri": "https://localhost:8080/"
        },
        "id": "Pb2YZh2Sszq7",
        "outputId": "d6032395-c5c9-4f27-f150-54c41f2f0ae2"
      },
      "execution_count": null,
      "outputs": [
        {
          "output_type": "stream",
          "name": "stdout",
          "text": [
            "Enter the Number10\n",
            "Enter the Number20\n",
            "sum of 10 & 20 is 30\n"
          ]
        }
      ]
    },
    {
      "cell_type": "code",
      "source": [
        "#Maximum of two numbers in Python    \"using if-else\" \n",
        "\n",
        "a=int(input(\"Enter the Number\"))\n",
        "b=int(input(\"Enter the Number\"))\n",
        "if a>b:\n",
        "  print(\"{0} is greater than {1}\".format(a,b))\n",
        "else:\n",
        "  print(\"{0} is greater than {1}\".format(b,a))"
      ],
      "metadata": {
        "colab": {
          "base_uri": "https://localhost:8080/"
        },
        "id": "06_5-RCTtfyF",
        "outputId": "7db86e31-15d4-4a73-a431-6010e3805317"
      },
      "execution_count": null,
      "outputs": [
        {
          "output_type": "stream",
          "name": "stdout",
          "text": [
            "Enter the Number57\n",
            "Enter the Number6\n",
            "57 is greater than 6\n"
          ]
        }
      ]
    },
    {
      "cell_type": "code",
      "source": [
        "#Maximum of two numbers in Python    \"Using max() function\"\n",
        "\n",
        "a=int(input(\"Enter the Number\"))\n",
        "b=int(input(\"Enter the Number\"))\n",
        "Maximum=max(a,b)1\n",
        "print(\"Maximum number is {0}\".format(Maximum))"
      ],
      "metadata": {
        "colab": {
          "base_uri": "https://localhost:8080/"
        },
        "id": "N23UJixVuyXF",
        "outputId": "51074879-2ce6-41a3-995a-52cdab5533e1"
      },
      "execution_count": null,
      "outputs": [
        {
          "output_type": "stream",
          "name": "stdout",
          "text": [
            "Enter the Number07\n",
            "Enter the Number17\n",
            "Maximum number is 17\n"
          ]
        }
      ]
    },
    {
      "cell_type": "code",
      "source": [
        "#Maximum of two numbers in Python    \"Using Ternary Operator\"\n",
        "\n",
        "a=int(input(\"Enter the Number\"))\n",
        "b=int(input(\"Enter the Number\"))\n",
        "print(a if a >= b else b)"
      ],
      "metadata": {
        "colab": {
          "base_uri": "https://localhost:8080/"
        },
        "id": "-4_wNoD0vMg0",
        "outputId": "01d15f73-779f-412d-b380-2282da367f61"
      },
      "execution_count": null,
      "outputs": [
        {
          "output_type": "stream",
          "name": "stdout",
          "text": [
            "Enter the Number7\n",
            "Enter the Number77\n",
            "77\n"
          ]
        }
      ]
    },
    {
      "cell_type": "code",
      "source": [
        "#Python Program to check Armstrong Number\n",
        "\n",
        "# Function to calculate x raised to the power y\n",
        "def power(x, y):\n",
        "\t\n",
        "\tif y == 0:\n",
        "\t\treturn 1\n",
        "\tif y % 2 == 0:\n",
        "\t\treturn power(x, y // 2) * power(x, y // 2)\n",
        "\t\t\n",
        "\treturn x * power(x, y // 2) * power(x, y // 2)\n",
        "\n",
        "# Function to calculate order of the number\n",
        "def order(x):\n",
        "\n",
        "\t# Variable to store of the number\n",
        "\tn = 0\n",
        "\twhile (x != 0):\n",
        "\t\tn = n + 1\n",
        "\t\tx = x // 10\n",
        "\t\t\n",
        "\treturn n\n",
        "\n",
        "# Function to check whether the given\n",
        "# number is Armstrong number or not\n",
        "def isArmstrong(x):\n",
        "\t\n",
        "\tn = order(x)\n",
        "\ttemp = x\n",
        "\tsum1 = 0\n",
        "\t\n",
        "\twhile (temp != 0):\n",
        "\t\tr = temp % 10\n",
        "\t\tsum1 = sum1 + power(r, n)\n",
        "\t\ttemp = temp // 10\n",
        "\n",
        "\t# If condition satisfies\n",
        "\treturn (sum1 == x)\n",
        "\n",
        "# Driver code\n",
        "x = 153\n",
        "print(isArmstrong(x))\n",
        "\n",
        "x = 1253\n",
        "print(isArmstrong(x))\n"
      ],
      "metadata": {
        "colab": {
          "base_uri": "https://localhost:8080/"
        },
        "id": "3vnSahgsvuB0",
        "outputId": "d27e0ac7-325b-4923-a791-49853382db5b"
      },
      "execution_count": null,
      "outputs": [
        {
          "output_type": "stream",
          "name": "stdout",
          "text": [
            "True\n",
            "False\n"
          ]
        }
      ]
    },
    {
      "cell_type": "code",
      "source": [
        "#Python program to print all Prime numbers in an Interval\n",
        "\n",
        "# Python program to print all\n",
        "# prime number in an interval\n",
        "\n",
        "def prime(x, y):\n",
        "\tprime_list = []\n",
        "\tfor i in range(x, y):\n",
        "\t\tif i == 0 or i == 1:\n",
        "\t\t\tcontinue\n",
        "\t\telse:\n",
        "\t\t\tfor j in range(2, int(i/2)+1):\n",
        "\t\t\t\tif i % j == 0:\n",
        "\t\t\t\t\tbreak\n",
        "\t\t\telse:\n",
        "\t\t\t\tprime_list.append(i)\n",
        "\treturn prime_list\n",
        "\n",
        "# Driver program\n",
        "starting_range = 2\n",
        "ending_range = 7\n",
        "lst = prime(starting_range, ending_range)\n",
        "if len(lst) == 0:\n",
        "\tprint(\"There are no prime numbers in this range\")\n",
        "else:\n",
        "\tprint(\"The prime numbers in this range are: \", lst)\n"
      ],
      "metadata": {
        "id": "SIhxl8U_zloF",
        "colab": {
          "base_uri": "https://localhost:8080/",
          "height": 0
        },
        "outputId": "5b4c4a0f-05ab-4390-973e-d3836d25d648"
      },
      "execution_count": 1,
      "outputs": [
        {
          "output_type": "stream",
          "name": "stdout",
          "text": [
            "The prime numbers in this range are:  [2, 3, 5]\n"
          ]
        }
      ]
    },
    {
      "cell_type": "code",
      "source": [
        "#Python program to check whether a number is Prime or not\n",
        "\n",
        "# Python program to check if\n",
        "# given number is prime or not\n",
        "\n",
        "num = 11\n",
        "\n",
        "# If given number is greater than 1\n",
        "if num > 1:\n",
        "\n",
        "\t# Iterate from 2 to n / 2\n",
        "\tfor i in range(2, int(num/2)+1):\n",
        "\n",
        "\t\t# If num is divisible by any number between\n",
        "\t\t# 2 and n / 2, it is not prime\n",
        "\t\tif (num % i) == 0:\n",
        "\t\t\tprint(num, \"is not a prime number\")\n",
        "\t\t\tbreak\n",
        "\telse:\n",
        "\t\tprint(num, \"is a prime number\")\n",
        "\n",
        "else:\n",
        "\tprint(num, \"is not a prime number\")\n"
      ],
      "metadata": {
        "colab": {
          "base_uri": "https://localhost:8080/",
          "height": 0
        },
        "id": "8DnxE9DD5lSC",
        "outputId": "d148f6bd-a81f-4f45-f7a4-d363c19df7f7"
      },
      "execution_count": 2,
      "outputs": [
        {
          "output_type": "stream",
          "name": "stdout",
          "text": [
            "11 is a prime number\n"
          ]
        }
      ]
    },
    {
      "cell_type": "code",
      "source": [
        "# Python Program for How to check if a given number is Fibonacci number?\n",
        "\n",
        "# python program to check if x is a perfect square\n",
        "import math\n",
        "\n",
        "# A utility function that returns true if x is perfect square\n",
        "def isPerfectSquare(x):\n",
        "\ts = int(math.sqrt(x))\n",
        "\treturn s*s == x\n",
        "\n",
        "# Returns true if n is a Fibonacci Number, else false\n",
        "def isFibonacci(n):\n",
        "\n",
        "\t# n is Fibonacci if one of 5*n*n + 4 or 5*n*n - 4 or both\n",
        "\t# is a perfect square\n",
        "\treturn isPerfectSquare(5*n*n + 4) or isPerfectSquare(5*n*n - 4)\n",
        "\t\n",
        "# A utility function to test above functions\n",
        "for i in range(1,11):\n",
        "\tif (isFibonacci(i) == True):\n",
        "\t\tprint (i,\"is a Fibonacci Number\")\n",
        "\telse:\n",
        "\t\tprint (i,\"is not a Fibonacci Number \")\n"
      ],
      "metadata": {
        "colab": {
          "base_uri": "https://localhost:8080/",
          "height": 0
        },
        "id": "N9UsARNM6DqF",
        "outputId": "a24ac115-0b77-404e-e3f8-ec84a0b956b7"
      },
      "execution_count": 4,
      "outputs": [
        {
          "output_type": "stream",
          "name": "stdout",
          "text": [
            "1 is a Fibonacci Number\n",
            "2 is a Fibonacci Number\n",
            "3 is a Fibonacci Number\n",
            "4 is not a Fibonacci Number \n",
            "5 is a Fibonacci Number\n",
            "6 is not a Fibonacci Number \n",
            "7 is not a Fibonacci Number \n",
            "8 is a Fibonacci Number\n",
            "9 is not a Fibonacci Number \n",
            "10 is not a Fibonacci Number \n"
          ]
        }
      ]
    },
    {
      "cell_type": "code",
      "source": [
        "#Program to print ASCII Value of a character\n",
        "print(\"Enter a String: \", end=\"\")\n",
        "text = input()\n",
        "textlength = len(text)\n",
        "for char in text:\n",
        "\tascii = ord(char)\n",
        "\tprint(char, \"\\t\", ascii)\n",
        "\n"
      ],
      "metadata": {
        "colab": {
          "base_uri": "https://localhost:8080/",
          "height": 0
        },
        "id": "EZpUOK2m6MC7",
        "outputId": "7de50a6e-ff23-4222-adf0-0a0daa3e7c11"
      },
      "execution_count": 7,
      "outputs": [
        {
          "output_type": "stream",
          "name": "stdout",
          "text": [
            "Enter a String: H\n",
            "H \t 72\n"
          ]
        }
      ]
    },
    {
      "cell_type": "code",
      "source": [
        "#Python Program for Sum of squares of first n natural numbers\n",
        "\n",
        "# Return the sum of\n",
        "# square of first n\n",
        "# natural numbers\n",
        "def squaresum(n) :\n",
        "\treturn (n * (n + 1) * (2 * n + 1)) // 6\n",
        "\n",
        "# Driven Program\n",
        "n = int(input(\"Enter the Number \"))\n",
        "print(squaresum(n))\n",
        "\t\t\t\t\t\t\t\t\t\t\t\t\t\n"
      ],
      "metadata": {
        "colab": {
          "base_uri": "https://localhost:8080/",
          "height": 0
        },
        "id": "7nBAj_m56imv",
        "outputId": "ac5aebcb-a77f-4d30-f54f-3d840fd0b015"
      },
      "execution_count": 10,
      "outputs": [
        {
          "output_type": "stream",
          "name": "stdout",
          "text": [
            "Enter the Number 4\n",
            "30\n"
          ]
        }
      ]
    },
    {
      "cell_type": "code",
      "source": [
        "# Python Program for cube sum of first n natural numbers\n",
        "\n",
        "# Simple Python program to find sum of series\n",
        "# with cubes of first n natural numbers\n",
        "\n",
        "# Returns the sum of series\n",
        "def sumOfSeries(n):\n",
        "\tsum = 0\n",
        "\tfor i in range(1, n+1):\n",
        "\t\tsum +=i*i*i\n",
        "\t\t\n",
        "\treturn sum\n",
        "\n",
        "\n",
        "# Driver Function\n",
        "n = int(input(\"Enter the Number \"))\n",
        "print(sumOfSeries(n))\n",
        "\n"
      ],
      "metadata": {
        "colab": {
          "base_uri": "https://localhost:8080/",
          "height": 0
        },
        "id": "F_JwsEyF7CJr",
        "outputId": "6c22f3ac-37b2-42b9-868e-4d2efd6677f6"
      },
      "execution_count": 12,
      "outputs": [
        {
          "output_type": "stream",
          "name": "stdout",
          "text": [
            "Enter the Number 5\n",
            "225\n"
          ]
        }
      ]
    },
    {
      "cell_type": "code",
      "source": [
        "#Python Program to find sum of array \n",
        "\n",
        "arr = []\n",
        "# input values to list\n",
        "arr = [12, 3, 4, 15]\n",
        "\n",
        "# sum() is an inbuilt function in python that adds\n",
        "# all the elements in list,set and tuples and returns\n",
        "# the value\n",
        "ans = sum(arr)\n",
        "\n",
        "# display sum\n",
        "print ('Sum of the array is ',ans)\n",
        "\n"
      ],
      "metadata": {
        "colab": {
          "base_uri": "https://localhost:8080/",
          "height": 0
        },
        "id": "2nQcRL-h7viD",
        "outputId": "6ef1a4a4-5ab2-4b24-c6c6-305e76c3d14b"
      },
      "execution_count": 13,
      "outputs": [
        {
          "output_type": "stream",
          "name": "stdout",
          "text": [
            "Sum of the array is  34\n"
          ]
        }
      ]
    },
    {
      "cell_type": "code",
      "source": [
        "#Python Program to find largest element in an array\n",
        "\n",
        "# Python3 program to find maximum\n",
        "# in arr[] of size n\n",
        "\n",
        "# python function to find maximum\n",
        "# in arr[] of size n\n",
        "def largest(arr,n):\n",
        "\n",
        "\t# Initialize maximum element\n",
        "\tmax = arr[0]\n",
        "\n",
        "\t# Traverse array elements from second\n",
        "\t# and compare every element with\n",
        "\t# current max\n",
        "\tfor i in range(1, n):\n",
        "\t\tif arr[i] > max:\n",
        "\t\t\tmax = arr[i]\n",
        "\treturn max\n",
        "\n",
        "# Driver Code\n",
        "arr = [10, 324, 45, 90, 9808]\n",
        "n = len(arr)\n",
        "Ans = largest(arr,n)\n",
        "print (\"Largest in given array is\",Ans)\n",
        "\n"
      ],
      "metadata": {
        "colab": {
          "base_uri": "https://localhost:8080/",
          "height": 0
        },
        "id": "qPx8xGBY8N_z",
        "outputId": "0b0036a8-9e57-4ebe-dbb0-29a87377f90e"
      },
      "execution_count": 14,
      "outputs": [
        {
          "output_type": "stream",
          "name": "stdout",
          "text": [
            "Largest in given array is 9808\n"
          ]
        }
      ]
    },
    {
      "cell_type": "code",
      "source": [
        "#Python program to swap two elements in a list\n",
        "\n",
        "# Python3 program to swap elements\n",
        "# at given positions\n",
        "\n",
        "# Swap function\n",
        "def swapPositions(list, pos1, pos2):\n",
        "\t\n",
        "\tlist[pos1], list[pos2] = list[pos2], list[pos1]\n",
        "\treturn list\n",
        "\n",
        "# Driver function\n",
        "List = [23, 65, 19, 90]\n",
        "pos1, pos2 = 1, 3\n",
        "\n",
        "print(swapPositions(List, pos1-1, pos2-1))\n"
      ],
      "metadata": {
        "colab": {
          "base_uri": "https://localhost:8080/",
          "height": 0
        },
        "id": "XloqwR8O82wT",
        "outputId": "081a420f-e2d5-45c5-a78a-89a8876b2969"
      },
      "execution_count": 15,
      "outputs": [
        {
          "output_type": "stream",
          "name": "stdout",
          "text": [
            "[19, 65, 23, 90]\n"
          ]
        }
      ]
    },
    {
      "cell_type": "code",
      "source": [
        "#Python program to find second largest number in a list\n",
        "\n",
        "# Python program to find second largest\n",
        "# number in a list\n",
        "\n",
        "# list of numbers - length of\n",
        "# list should be at least 2\n",
        "list1 = [10, 20, 4, 45, 99]\n",
        "\n",
        "mx=max(list1[0],list1[1])\n",
        "secondmax=min(list1[0],list1[1])\n",
        "n =len(list1)\n",
        "for i in range(2,n):\n",
        "\tif list1[i]>mx:\n",
        "\t\tsecondmax=mx\n",
        "\t\tmx=list1[i]\n",
        "\telif list1[i]>secondmax and \\\n",
        "\t\tmx != list1[i]:\n",
        "\t\tsecondmax=list1[i]\n",
        "\n",
        "print(\"Second highest number is : \",\\\n",
        "\tstr(secondmax))\n"
      ],
      "metadata": {
        "colab": {
          "base_uri": "https://localhost:8080/",
          "height": 0
        },
        "id": "-r1HR8ZB95F1",
        "outputId": "bcafa183-3ecb-473e-9dda-3cdfa64ad6d6"
      },
      "execution_count": 16,
      "outputs": [
        {
          "output_type": "stream",
          "name": "stdout",
          "text": [
            "Second highest number is :  45\n"
          ]
        }
      ]
    },
    {
      "cell_type": "code",
      "source": [
        "#Python program to print even numbers in a list\n",
        "\n",
        "# Using for loop;\n",
        "# list of numbers is \n",
        "list1 = [10, 21, 4, 45, 66, 93]\n",
        "\n",
        "# iterating each number in list\n",
        "for num in list1:\n",
        "\n",
        "\t# checking condition\n",
        "\tif num % 2 == 0:\n",
        "\t\tprint(num, end=\" \")\n",
        "\n",
        "\n"
      ],
      "metadata": {
        "colab": {
          "base_uri": "https://localhost:8080/",
          "height": 0
        },
        "id": "fewHD_iw-LCc",
        "outputId": "b527a404-75ed-4485-d576-4eb4ccaaa482"
      },
      "execution_count": 18,
      "outputs": [
        {
          "output_type": "stream",
          "name": "stdout",
          "text": [
            "10 4 66 "
          ]
        }
      ]
    },
    {
      "cell_type": "code",
      "source": [
        "# Python program to print Even Numbers in a List\n",
        "\n",
        "#Using while loop \n",
        "\n",
        "\n",
        "# list of numbers\n",
        "list1 = [10, 24, 4, 45, 66, 93]\n",
        "num = 0\n",
        "\n",
        "# using while loop\n",
        "while(num < len(list1)):\n",
        "\n",
        "\t# checking condition\n",
        "\tif list1[num] % 2 == 0:\n",
        "\t\tprint(list1[num], end=\" \")\n",
        "\n",
        "\t# increment num\n",
        "\tnum += 1"
      ],
      "metadata": {
        "colab": {
          "base_uri": "https://localhost:8080/",
          "height": 0
        },
        "id": "xHi6bokG-s3u",
        "outputId": "8f19b705-5d0b-4cc1-9b36-5e84b256afc0"
      },
      "execution_count": 19,
      "outputs": [
        {
          "output_type": "stream",
          "name": "stdout",
          "text": [
            "10 24 4 66 "
          ]
        }
      ]
    },
    {
      "cell_type": "code",
      "source": [
        "# Python program to print Even Numbers in given range\n",
        "\n",
        "start = int(input(\"Enter the start of range: \"))\n",
        "end = int(input(\"Enter the end of range: \"))\n",
        "\n",
        "# iterating each number in list\n",
        "for num in range(start, end + 1):\n",
        "\t\n",
        "\t# checking condition\n",
        "\tif num % 2 == 0:\n",
        "\t\tprint(num, end = \" \")\n"
      ],
      "metadata": {
        "colab": {
          "base_uri": "https://localhost:8080/",
          "height": 0
        },
        "id": "hBOrnlWm-2Xp",
        "outputId": "322b94a1-05d8-4b21-8e69-ed2a95b89af8"
      },
      "execution_count": 20,
      "outputs": [
        {
          "output_type": "stream",
          "name": "stdout",
          "text": [
            "Enter the start of range: 10\n",
            "Enter the end of range: 50\n",
            "10 12 14 16 18 20 22 24 26 28 30 32 34 36 38 40 42 44 46 48 50 "
          ]
        }
      ]
    },
    {
      "cell_type": "code",
      "source": [
        "#Python program to print all odd numbers in a range\n",
        "\n",
        "start = int(input(\"Enter the start of range: \"))\n",
        "end = int(input(\"Enter the end of range: \"))\n",
        "\n",
        "# iterating each number in list\n",
        "for num in range(start, end + 1):\n",
        "\t\n",
        "\t# checking condition\n",
        "\tif num % 2 != 0:\n",
        "\t\tprint(num, end = \" \")\n"
      ],
      "metadata": {
        "colab": {
          "base_uri": "https://localhost:8080/",
          "height": 0
        },
        "id": "yTt8MFE8-_Tq",
        "outputId": "b3388291-cf87-4480-9c68-7049d850737a"
      },
      "execution_count": 21,
      "outputs": [
        {
          "output_type": "stream",
          "name": "stdout",
          "text": [
            "Enter the start of range: 10\n",
            "Enter the end of range: 50\n",
            "11 13 15 17 19 21 23 25 27 29 31 33 35 37 39 41 43 45 47 49 "
          ]
        }
      ]
    },
    {
      "cell_type": "code",
      "source": [
        "#Remove multiple elements from a list in Python\n",
        "#Let’s say we want to delete each element in the list which is divisible by 2 or all the even numbers. \n",
        "# creating a list\n",
        "list1 = [11, 5, 17, 18, 23, 50]\n",
        "\n",
        "# Iterate each element in list\n",
        "# and add them in variable total\n",
        "for ele in list1:\n",
        "\tif ele % 2 == 0:\n",
        "\t\tlist1.remove(ele)\n",
        "\n",
        "# printing modified list\n",
        "print(\"New list after removing all even numbers: \", list1)\n"
      ],
      "metadata": {
        "colab": {
          "base_uri": "https://localhost:8080/",
          "height": 0
        },
        "id": "DbZ7gKUU_Qdo",
        "outputId": "13756508-aa32-4926-d906-2eac23db964e"
      },
      "execution_count": 22,
      "outputs": [
        {
          "output_type": "stream",
          "name": "stdout",
          "text": [
            "New list after removing all even numbers:  [11, 5, 17, 23]\n"
          ]
        }
      ]
    },
    {
      "cell_type": "markdown",
      "source": [
        "Matrix Programs"
      ],
      "metadata": {
        "id": "OcJUM7VtADew"
      }
    },
    {
      "cell_type": "code",
      "source": [
        "##Python program to add two Matrices\n",
        "\n",
        "# Program to add two matrices using nested loop\n",
        "\n",
        "X = [[1,2,3],\n",
        "\t[4 ,5,6],\n",
        "\t[7 ,8,9]]\n",
        "\n",
        "Y = [[9,8,7],\n",
        "\t[6,5,4],\n",
        "\t[3,2,1]]\n",
        "\n",
        "\n",
        "result = [[0,0,0],\n",
        "\t\t[0,0,0],\n",
        "\t\t[0,0,0]]\n",
        "\n",
        "# iterate through rows\n",
        "for i in range(len(X)):\n",
        "# iterate through columns\n",
        "\tfor j in range(len(X[0])):\n",
        "\t\tresult[i][j] = X[i][j] + Y[i][j]\n",
        "\n",
        "for r in result:\n",
        "\tprint(r)\n"
      ],
      "metadata": {
        "colab": {
          "base_uri": "https://localhost:8080/",
          "height": 0
        },
        "id": "jXmQByQqAEYn",
        "outputId": "f6c9c8fc-6245-48bc-843d-427bd47fc03f"
      },
      "execution_count": 23,
      "outputs": [
        {
          "output_type": "stream",
          "name": "stdout",
          "text": [
            "[10, 10, 10]\n",
            "[10, 10, 10]\n",
            "[10, 10, 10]\n"
          ]
        }
      ]
    },
    {
      "cell_type": "code",
      "source": [
        "#Python | Matrix Product\n",
        "\n",
        "# Python3 code to demonstrate\n",
        "# Matrix Product\n",
        "# Using chain() + loop\n",
        "from itertools import chain\n",
        "\n",
        "# getting Product\n",
        "def prod(val) :\n",
        "\tres = 1\n",
        "\tfor ele in val:\n",
        "\t\tres *= ele\n",
        "\treturn res\n",
        "\n",
        "# initializing list\n",
        "test_list = [[1, 4, 5], [7, 3], [4], [46, 7, 3]]\n",
        "\n",
        "# printing original list\n",
        "print(\"The original list : \" + str(test_list))\n",
        "\n",
        "# using chain() + loop\n",
        "# Matrix Product\n",
        "res = prod(list(chain(*test_list)))\n",
        "\n",
        "# print result\n",
        "print(\"The total element product in lists is : \" + str(res))\n"
      ],
      "metadata": {
        "colab": {
          "base_uri": "https://localhost:8080/",
          "height": 0
        },
        "id": "KifkAaNwAQAg",
        "outputId": "71129cfd-9e5e-470a-a03b-51a430614b64"
      },
      "execution_count": 24,
      "outputs": [
        {
          "output_type": "stream",
          "name": "stdout",
          "text": [
            "The original list : [[1, 4, 5], [7, 3], [4], [46, 7, 3]]\n",
            "The total element product in lists is : 1622880\n"
          ]
        }
      ]
    },
    {
      "cell_type": "markdown",
      "source": [
        "String Programs"
      ],
      "metadata": {
        "id": "iFl4tPMMAhz-"
      }
    },
    {
      "cell_type": "code",
      "source": [
        "#Python program to check if a string is palindrome or not\n",
        "\n",
        "# function which return reverse of a string\n",
        "\n",
        "def isPalindrome(s):\n",
        "\treturn s == s[::-1]\n",
        "\n",
        "# Driver code\n",
        "s = \"malayalam\"\n",
        "ans = isPalindrome(s)\n",
        "\n",
        "if ans:\n",
        "\tprint(\"Yes\")\n",
        "else:\n",
        "\tprint(\"No\")\n"
      ],
      "metadata": {
        "colab": {
          "base_uri": "https://localhost:8080/",
          "height": 0
        },
        "id": "99fpx_HPAjuG",
        "outputId": "0313660a-4151-4926-aec2-9ff621618c06"
      },
      "execution_count": 25,
      "outputs": [
        {
          "output_type": "stream",
          "name": "stdout",
          "text": [
            "Yes\n"
          ]
        }
      ]
    },
    {
      "cell_type": "code",
      "source": [
        "#Reverse words in a given String in Python\n",
        "\n",
        "# Function to reverse words of string\n",
        "\n",
        "def rev_sentence(sentence):\n",
        "\n",
        "\t# first split the string into words\n",
        "\twords = sentence.split(' ')\n",
        "\n",
        "\t# then reverse the split string list and join using space\n",
        "\treverse_sentence = ' '.join(reversed(words))\n",
        "\n",
        "\t# finally return the joined string\n",
        "\treturn reverse_sentence\n",
        "\n",
        "if __name__ == \"__main__\":\n",
        "\tinput = 'geeks quiz practice code'\n",
        "\tprint (rev_sentence(input))\n"
      ],
      "metadata": {
        "colab": {
          "base_uri": "https://localhost:8080/",
          "height": 0
        },
        "id": "1brX1TZnAvlH",
        "outputId": "9e609329-8808-45bd-b6cb-7963cc7f2d3d"
      },
      "execution_count": 26,
      "outputs": [
        {
          "output_type": "stream",
          "name": "stdout",
          "text": [
            "code practice quiz geeks\n"
          ]
        }
      ]
    },
    {
      "cell_type": "markdown",
      "source": [
        "Tuple Programs:"
      ],
      "metadata": {
        "id": "FEmELogzA9sg"
      }
    },
    {
      "cell_type": "code",
      "source": [
        "#Find the size of a Tuple in Python\n",
        "\n",
        "import sys\n",
        "\n",
        "# sample Tuples\n",
        "Tuple1 = (\"A\", 1, \"B\", 2, \"C\", 3)\n",
        "Tuple2 = (\"Geek1\", \"Raju\", \"Geek2\", \"Nikhil\", \"Geek3\", \"Deepanshu\")\n",
        "Tuple3 = ((1, \"Lion\"), ( 2, \"Tiger\"), (3, \"Fox\"), (4, \"Wolf\"))\n",
        "\n",
        "# print the sizes of sample Tuples\n",
        "print(\"Size of Tuple1: \" + str(sys.getsizeof(Tuple1)) + \"bytes\")\n",
        "print(\"Size of Tuple2: \" + str(sys.getsizeof(Tuple2)) + \"bytes\")\n",
        "print(\"Size of Tuple3: \" + str(sys.getsizeof(Tuple3)) + \"bytes\")\n"
      ],
      "metadata": {
        "colab": {
          "base_uri": "https://localhost:8080/",
          "height": 0
        },
        "id": "CysAhlgmA-V1",
        "outputId": "5b2817db-bd10-45cf-b09f-c168dff01742"
      },
      "execution_count": 27,
      "outputs": [
        {
          "output_type": "stream",
          "name": "stdout",
          "text": [
            "Size of Tuple1: 104bytes\n",
            "Size of Tuple2: 104bytes\n",
            "Size of Tuple3: 88bytes\n"
          ]
        }
      ]
    },
    {
      "cell_type": "code",
      "source": [
        "#Python – Adding Tuple to List and vice – versa\n",
        "\n",
        "# Python3 code to demonstrate working of\n",
        "# Adding Tuple to List and vice - versa\n",
        "# Using += operator (list + tuple)\n",
        "\n",
        "# initializing list\n",
        "test_list = [5, 6, 7]\n",
        "\n",
        "# printing original list\n",
        "print(\"The original list is : \" + str(test_list))\n",
        "\n",
        "# initializing tuple\n",
        "test_tup = (9, 10)\n",
        "\n",
        "# Adding Tuple to List and vice - versa\n",
        "# Using += operator (list + tuple)\n",
        "test_list += test_tup\n",
        "\n",
        "# printing result\n",
        "print(\"The container after addition : \" + str(test_list))\n"
      ],
      "metadata": {
        "colab": {
          "base_uri": "https://localhost:8080/",
          "height": 0
        },
        "id": "SRaNlJP2BEWl",
        "outputId": "6f28abc3-7980-4870-8f0a-ec8f2fa130bf"
      },
      "execution_count": 28,
      "outputs": [
        {
          "output_type": "stream",
          "name": "stdout",
          "text": [
            "The original list is : [5, 6, 7]\n",
            "The container after addition : [5, 6, 7, 9, 10]\n"
          ]
        }
      ]
    },
    {
      "cell_type": "markdown",
      "source": [
        "Searching and Sorting Programs:"
      ],
      "metadata": {
        "id": "KwxKEq-KBUu2"
      }
    },
    {
      "cell_type": "code",
      "source": [
        "#Python Program for Binary Search (Recursive and Iterative)\n",
        "\n",
        "#Recursive\n",
        "# Python 3 program for recursive binary search.\n",
        "# Modifications needed for the older Python 2 are found in comments.\n",
        "\n",
        "# Returns index of x in arr if present, else -1\n",
        "def binary_search(arr, low, high, x):\n",
        "\n",
        "\t# Check base case\n",
        "\tif high >= low:\n",
        "\n",
        "\t\tmid = (high + low) // 2\n",
        "\n",
        "\t\t# If element is present at the middle itself\n",
        "\t\tif arr[mid] == x:\n",
        "\t\t\treturn mid\n",
        "\n",
        "\t\t# If element is smaller than mid, then it can only\n",
        "\t\t# be present in left subarray\n",
        "\t\telif arr[mid] > x:\n",
        "\t\t\treturn binary_search(arr, low, mid - 1, x)\n",
        "\n",
        "\t\t# Else the element can only be present in right subarray\n",
        "\t\telse:\n",
        "\t\t\treturn binary_search(arr, mid + 1, high, x)\n",
        "\n",
        "\telse:\n",
        "\t\t# Element is not present in the array\n",
        "\t\treturn -1\n",
        "\n",
        "# Test array\n",
        "arr = [ 2, 3, 4, 10, 40 ]\n",
        "x = 10\n",
        "\n",
        "# Function call\n",
        "result = binary_search(arr, 0, len(arr)-1, x)\n",
        "\n",
        "if result != -1:\n",
        "\tprint(\"Element is present at index\", str(result))\n",
        "else:\n",
        "\tprint(\"Element is not present in array\")\n"
      ],
      "metadata": {
        "colab": {
          "base_uri": "https://localhost:8080/",
          "height": 0
        },
        "id": "_qXQus2JBVIk",
        "outputId": "b84778fc-60af-482a-d919-20e75c9bdbf5"
      },
      "execution_count": 29,
      "outputs": [
        {
          "output_type": "stream",
          "name": "stdout",
          "text": [
            "Element is present at index 3\n"
          ]
        }
      ]
    },
    {
      "cell_type": "code",
      "source": [
        "#Python Program for Binary Search (Recursive and Iterative)\n",
        "\n",
        "#Iterative\n",
        "\n",
        "# Iterative Binary Search Function\n",
        "# It returns index of x in given array arr if present,\n",
        "# else returns -1\n",
        "def binary_search(arr, x):\n",
        "\tlow = 0\n",
        "\thigh = len(arr) - 1\n",
        "\tmid = 0\n",
        "\n",
        "\twhile low <= high:\n",
        "\n",
        "\t\tmid = (high + low) // 2\n",
        "\n",
        "\t\t# If x is greater, ignore left half\n",
        "\t\tif arr[mid] < x:\n",
        "\t\t\tlow = mid + 1\n",
        "\n",
        "\t\t# If x is smaller, ignore right half\n",
        "\t\telif arr[mid] > x:\n",
        "\t\t\thigh = mid - 1\n",
        "\n",
        "\t\t# means x is present at mid\n",
        "\t\telse:\n",
        "\t\t\treturn mid\n",
        "\n",
        "\t# If we reach here, then the element was not present\n",
        "\treturn -1\n",
        "\n",
        "\n",
        "# Test array\n",
        "arr = [ 2, 3, 4, 10, 40 ]\n",
        "x = 10\n",
        "\n",
        "# Function call\n",
        "result = binary_search(arr, x)\n",
        "\n",
        "if result != -1:\n",
        "\tprint(\"Element is present at index\", str(result))\n",
        "else:\n",
        "\tprint(\"Element is not present in array\")\n"
      ],
      "metadata": {
        "colab": {
          "base_uri": "https://localhost:8080/",
          "height": 0
        },
        "id": "jB-rHT_jBhtM",
        "outputId": "1376fb7d-cc35-492f-f2da-af96930d7ab9"
      },
      "execution_count": 30,
      "outputs": [
        {
          "output_type": "stream",
          "name": "stdout",
          "text": [
            "Element is present at index 3\n"
          ]
        }
      ]
    },
    {
      "cell_type": "code",
      "source": [
        "#Python Program for Bubble Sort\n",
        "\n",
        "# Python program for implementation of Bubble Sort\n",
        "\n",
        "def bubbleSort(arr):\n",
        "\tn = len(arr)\n",
        "\n",
        "\t# Traverse through all array elements\n",
        "\tfor i in range(n-1):\n",
        "\t# range(n) also work but outer loop will\n",
        "\t# repeat one time more than needed.\n",
        "\n",
        "\t\t# Last i elements are already in place\n",
        "\t\tfor j in range(0, n-i-1):\n",
        "\n",
        "\t\t\t# traverse the array from 0 to n-i-1\n",
        "\t\t\t# Swap if the element found is greater\n",
        "\t\t\t# than the next element\n",
        "\t\t\tif arr[j] > arr[j + 1] :\n",
        "\t\t\t\tarr[j], arr[j + 1] = arr[j + 1], arr[j]\n",
        "\n",
        "# Driver code to test above\n",
        "arr = [64, 34, 25, 12, 22, 11, 90]\n",
        "\n",
        "bubbleSort(arr)\n",
        "\n",
        "print (\"Sorted array is:\")\n",
        "for i in range(len(arr)):\n",
        "\tprint (\"% d\" % arr[i],end=\" \")\n"
      ],
      "metadata": {
        "colab": {
          "base_uri": "https://localhost:8080/",
          "height": 0
        },
        "id": "HHn8H2uIBomT",
        "outputId": "308081b8-5fda-4ab6-f653-c3c36e202309"
      },
      "execution_count": 31,
      "outputs": [
        {
          "output_type": "stream",
          "name": "stdout",
          "text": [
            "Sorted array is:\n",
            " 11  12  22  25  34  64  90 "
          ]
        }
      ]
    },
    {
      "cell_type": "markdown",
      "source": [
        "Pattern Printing Programs:"
      ],
      "metadata": {
        "id": "6lsbl6bAB-Li"
      }
    },
    {
      "cell_type": "code",
      "source": [
        "#Program to print the pattern ‘G’\n",
        "\n",
        "# Python program to print pattern G\n",
        "def Pattern(line):\n",
        "\tpat=\"\"\n",
        "\tfor i in range(0,line):\n",
        "\t\tfor j in range(0,line):\t\n",
        "\t\t\tif ((j == 1 and i != 0 and i != line-1) or ((i == 0 or\n",
        "\t\t\t\ti == line-1) and j > 1 and j < line-2) or (i == ((line-1)/2)\n",
        "\t\t\t\tand j > line-5 and j < line-1) or (j == line-2 and\n",
        "\t\t\t\ti != 0 and i != line-1 and i >=((line-1)/2))):\n",
        "\t\t\t\tpat=pat+\"*\"\n",
        "\t\t\telse:\t\n",
        "\t\t\t\tpat=pat+\" \"\n",
        "\t\tpat=pat+\"\\n\"\n",
        "\treturn pat\n",
        "\n",
        "# Driver Code\n",
        "line = 7\n",
        "print(Pattern(line))\n"
      ],
      "metadata": {
        "colab": {
          "base_uri": "https://localhost:8080/"
        },
        "id": "j3qREaa_B-iC",
        "outputId": "bf203d1f-5751-46ee-90bc-d54992e9d0cc"
      },
      "execution_count": 32,
      "outputs": [
        {
          "output_type": "stream",
          "name": "stdout",
          "text": [
            "  ***  \n",
            " *     \n",
            " *     \n",
            " * *** \n",
            " *   * \n",
            " *   * \n",
            "  ***  \n",
            "\n"
          ]
        }
      ]
    },
    {
      "cell_type": "code",
      "source": [
        "#Python | Print an Inverted Star Pattern\n",
        "\n",
        "# python 3 code to print inverted star\n",
        "# pattern\n",
        "\n",
        "# n is the number of rows in which\n",
        "# star is going to be printed.\n",
        "n=11\n",
        "\n",
        "# i is going to be enabled to\n",
        "# range between n-i t 0 with a\n",
        "# decrement of 1 with each iteration.\n",
        "# and in print function, for each iteration,\n",
        "# ” ” is multiplied with n-i and ‘*’ is\n",
        "# multiplied with i to create correct\n",
        "# space before of the stars.\n",
        "for i in range (n, 0, -1):\n",
        "\tprint((n-i) * ' ' + i * '*')\n"
      ],
      "metadata": {
        "colab": {
          "base_uri": "https://localhost:8080/"
        },
        "id": "CrWJYuPxCFgC",
        "outputId": "d7e7e645-27c1-4f65-a579-b2244be69bbe"
      },
      "execution_count": 33,
      "outputs": [
        {
          "output_type": "stream",
          "name": "stdout",
          "text": [
            "***********\n",
            " **********\n",
            "  *********\n",
            "   ********\n",
            "    *******\n",
            "     ******\n",
            "      *****\n",
            "       ****\n",
            "        ***\n",
            "         **\n",
            "          *\n"
          ]
        }
      ]
    },
    {
      "cell_type": "code",
      "source": [
        "#Print with your own font using Python !\n",
        "\n",
        "# Python3 code to print input in your own font\n",
        "\n",
        "name = \"GEEK\"\n",
        "\n",
        "# To take input from User\n",
        "# name = input(\"Enter your name: \\n\\n\")\n",
        "\n",
        "length = len(name)\n",
        "l = \"\"\n",
        "\n",
        "for x in range(0, length):\n",
        "\tc = name[x]\n",
        "\tc = c.upper()\n",
        "\t\n",
        "\tif (c == \"A\"):\n",
        "\t\tprint(\"..######..\\n..#....#..\\n..######..\", end = \" \")\n",
        "\t\tprint(\"\\n..#....#..\\n..#....#..\\n\\n\")\n",
        "\t\t\n",
        "\telif (c == \"B\"):\n",
        "\t\tprint(\"..######..\\n..#....#..\\n..#####...\", end = \" \")\n",
        "\t\tprint(\"\\n..#....#..\\n..######..\\n\\n\")\n",
        "\t\t\n",
        "\telif (c == \"C\"):\n",
        "\t\tprint(\"..######..\\n..#.......\\n..#.......\", end = \" \")\n",
        "\t\tprint(\"\\n..#.......\\n..######..\\n\\n\")\n",
        "\t\t\n",
        "\telif (c == \"D\"):\n",
        "\t\tprint(\"..#####...\\n..#....#..\\n..#....#..\", end = \" \")\n",
        "\t\tprint(\"\\n..#....#..\\n..#####...\\n\\n\")\n",
        "\t\t\n",
        "\telif (c == \"E\"):\n",
        "\t\tprint(\"..######..\\n..#.......\\n..#####...\", end = \" \")\n",
        "\t\tprint(\"\\n..#.......\\n..######..\\n\\n\")\n",
        "\t\t\n",
        "\telif (c == \"F\"):\n",
        "\t\tprint(\"..######..\\n..#.......\\n..#####...\", end = \" \")\n",
        "\t\tprint(\"\\n..#.......\\n..#.......\\n\\n\")\n",
        "\t\t\n",
        "\telif (c == \"G\"):\n",
        "\t\tprint(\"..######..\\n..#.......\\n..#.####..\", end = \" \")\n",
        "\t\tprint(\"\\n..#....#..\\n..#####...\\n\\n\")\n",
        "\t\t\n",
        "\telif (c == \"H\"):\n",
        "\t\tprint(\"..#....#..\\n..#....#..\\n..######..\", end = \" \")\n",
        "\t\tprint(\"\\n..#....#..\\n..#....#..\\n\\n\")\n",
        "\t\t\n",
        "\telif (c == \"I\"):\n",
        "\t\tprint(\"..######..\\n....##....\\n....##....\", end = \" \")\n",
        "\t\tprint(\"\\n....##....\\n..######..\\n\\n\")\n",
        "\t\t\n",
        "\telif (c == \"J\"):\n",
        "\t\tprint(\"..######..\\n....##....\\n....##....\", end = \" \")\n",
        "\t\tprint(\"\\n..#.##....\\n..####....\\n\\n\")\n",
        "\t\t\n",
        "\telif (c == \"K\"):\n",
        "\t\tprint(\"..#...#...\\n..#..#....\\n..##......\", end = \" \")\n",
        "\t\tprint(\"\\n..#..#....\\n..#...#...\\n\\n\")\n",
        "\t\t\n",
        "\telif (c == \"L\"):\n",
        "\t\tprint(\"..#.......\\n..#.......\\n..#.......\", end = \" \")\n",
        "\t\tprint(\"\\n..#.......\\n..######..\\n\\n\")\n",
        "\t\t\n",
        "\telif (c == \"M\"):\n",
        "\t\tprint(\"..#....#..\\n..##..##..\\n..#.##.#..\", end = \" \")\n",
        "\t\tprint(\"\\n..#....#..\\n..#....#..\\n\\n\")\n",
        "\t\t\n",
        "\telif (c == \"N\"):\n",
        "\t\tprint(\"..#....#..\\n..##...#..\\n..#.#..#..\", end = \" \")\n",
        "\t\tprint(\"\\n..#..#.#..\\n..#...##..\\n\\n\")\n",
        "\t\t\n",
        "\telif (c == \"O\"):\n",
        "\t\tprint(\"..######..\\n..#....#..\\n..#....#..\", end = \" \")\n",
        "\t\tprint(\"\\n..#....#..\\n..######..\\n\\n\")\n",
        "\t\t\n",
        "\telif (c == \"P\"):\n",
        "\t\tprint(\"..######..\\n..#....#..\\n..######..\", end = \" \")\n",
        "\t\tprint(\"\\n..#.......\\n..#.......\\n\\n\")\n",
        "\t\t\n",
        "\telif (c == \"Q\"):\n",
        "\t\tprint(\"..######..\\n..#....#..\\n..#.#..#..\", end = \" \")\n",
        "\t\tprint(\"\\n..#..#.#..\\n..######..\\n\\n\")\n",
        "\t\t\n",
        "\telif (c == \"R\"):\n",
        "\t\tprint(\"..######..\\n..#....#..\\n..#.##...\", end = \" \")\n",
        "\t\tprint(\"\\n..#...#...\\n..#....#..\\n\\n\")\n",
        "\t\t\n",
        "\telif (c == \"S\"):\n",
        "\t\tprint(\"..######..\\n..#.......\\n..######..\", end = \" \")\n",
        "\t\tprint(\"\\n.......#..\\n..######..\\n\\n\")\n",
        "\t\t\n",
        "\telif (c == \"T\"):\n",
        "\t\tprint(\"..######..\\n....##....\\n....##....\", end = \" \")\n",
        "\t\tprint(\"\\n....##....\\n....##....\\n\\n\")\n",
        "\t\t\n",
        "\telif (c == \"U\"):\n",
        "\t\tprint(\"..#....#..\\n..#....#..\\n..#....#..\", end = \" \")\n",
        "\t\tprint(\"\\n..#....#..\\n..######..\\n\\n\")\n",
        "\t\t\n",
        "\telif (c == \"V\"):\n",
        "\t\tprint(\"..#....#..\\n..#....#..\\n..#....#..\", end = \" \")\n",
        "\t\tprint(\"\\n...#..#...\\n....##....\\n\\n\")\n",
        "\t\t\n",
        "\telif (c == \"W\"):\n",
        "\t\tprint(\"..#....#..\\n..#....#..\\n..#.##.#..\", end = \" \")\n",
        "\t\tprint(\"\\n..##..##..\\n..#....#..\\n\\n\")\n",
        "\t\t\n",
        "\telif (c == \"X\"):\n",
        "\t\tprint(\"..#....#..\\n...#..#...\\n....##....\", end = \" \")\n",
        "\t\tprint(\"\\n...#..#...\\n..#....#..\\n\\n\")\n",
        "\t\t\n",
        "\telif (c == \"Y\"):\n",
        "\t\tprint(\"..#....#..\\n...#..#...\\n....##....\", end = \" \")\n",
        "\t\tprint(\"\\n....##....\\n....##....\\n\\n\")\n",
        "\t\t\n",
        "\telif (c == \"Z\"):\n",
        "\t\tprint(\"..######..\\n......#...\\n.....#....\", end = \" \")\n",
        "\t\tprint(\"\\n....#.....\\n..######..\\n\\n\")\n",
        "\t\t\n",
        "\telif (c == \" \"):\n",
        "\t\tprint(\"..........\\n..........\\n..........\", end = \" \")\n",
        "\t\tprint(\"\\n..........\\n\\n\")\n",
        "\t\t\n",
        "\telif (c == \".\"):\n",
        "\t\tprint(\"----..----\\n\\n\")\n"
      ],
      "metadata": {
        "colab": {
          "base_uri": "https://localhost:8080/"
        },
        "id": "baq2hfELCQyA",
        "outputId": "384e4ea8-6976-4921-b37a-5ddb3fb75c20"
      },
      "execution_count": 34,
      "outputs": [
        {
          "output_type": "stream",
          "name": "stdout",
          "text": [
            "..######..\n",
            "..#.......\n",
            "..#.####.. \n",
            "..#....#..\n",
            "..#####...\n",
            "\n",
            "\n",
            "..######..\n",
            "..#.......\n",
            "..#####... \n",
            "..#.......\n",
            "..######..\n",
            "\n",
            "\n",
            "..######..\n",
            "..#.......\n",
            "..#####... \n",
            "..#.......\n",
            "..######..\n",
            "\n",
            "\n",
            "..#...#...\n",
            "..#..#....\n",
            "..##...... \n",
            "..#..#....\n",
            "..#...#...\n",
            "\n",
            "\n"
          ]
        }
      ]
    },
    {
      "cell_type": "code",
      "source": [
        ""
      ],
      "metadata": {
        "id": "Ai28E_0xCcFx"
      },
      "execution_count": null,
      "outputs": []
    }
  ]
}