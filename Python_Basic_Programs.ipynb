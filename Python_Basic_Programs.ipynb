{
  "nbformat": 4,
  "nbformat_minor": 0,
  "metadata": {
    "colab": {
      "name": "Python Basic Programs.ipynb",
      "provenance": [],
      "collapsed_sections": [],
      "authorship_tag": "ABX9TyOkLXPUUQgOxt06ZDJvhawW",
      "include_colab_link": true
    },
    "kernelspec": {
      "name": "python3",
      "display_name": "Python 3"
    },
    "language_info": {
      "name": "python"
    }
  },
  "cells": [
    {
      "cell_type": "markdown",
      "metadata": {
        "id": "view-in-github",
        "colab_type": "text"
      },
      "source": [
        "<a href=\"https://colab.research.google.com/github/ShreyasS07/ShreyasS07/blob/main/Python_Basic_Programs.ipynb\" target=\"_parent\"><img src=\"https://colab.research.google.com/assets/colab-badge.svg\" alt=\"Open In Colab\"/></a>"
      ]
    },
    {
      "cell_type": "markdown",
      "source": [
        "Python Basic Programs\n",
        " "
      ],
      "metadata": {
        "id": "Er2-14XjsKS0"
      }
    },
    {
      "cell_type": "code",
      "source": [
        "#Python3 program to add two numbers\n",
        "\n",
        "Num1=int(input(\"Enter the Number\"))\n",
        "Num2=int(input(\"Enter the Number\"))\n",
        "sum=Num1+Num2\n",
        "print(\"sum of {0} & {1} is {2}\".format(Num1,Num2,sum))"
      ],
      "metadata": {
        "colab": {
          "base_uri": "https://localhost:8080/"
        },
        "id": "Pb2YZh2Sszq7",
        "outputId": "d6032395-c5c9-4f27-f150-54c41f2f0ae2"
      },
      "execution_count": null,
      "outputs": [
        {
          "output_type": "stream",
          "name": "stdout",
          "text": [
            "Enter the Number10\n",
            "Enter the Number20\n",
            "sum of 10 & 20 is 30\n"
          ]
        }
      ]
    },
    {
      "cell_type": "code",
      "source": [
        "#Maximum of two numbers in Python    \"using if-else\" \n",
        "\n",
        "a=int(input(\"Enter the Number\"))\n",
        "b=int(input(\"Enter the Number\"))\n",
        "if a>b:\n",
        "  print(\"{0} is greater than {1}\".format(a,b))\n",
        "else:\n",
        "  print(\"{0} is greater than {1}\".format(b,a))"
      ],
      "metadata": {
        "colab": {
          "base_uri": "https://localhost:8080/"
        },
        "id": "06_5-RCTtfyF",
        "outputId": "7db86e31-15d4-4a73-a431-6010e3805317"
      },
      "execution_count": null,
      "outputs": [
        {
          "output_type": "stream",
          "name": "stdout",
          "text": [
            "Enter the Number57\n",
            "Enter the Number6\n",
            "57 is greater than 6\n"
          ]
        }
      ]
    },
    {
      "cell_type": "code",
      "source": [
        "#Maximum of two numbers in Python    \"Using max() function\"\n",
        "\n",
        "a=int(input(\"Enter the Number\"))\n",
        "b=int(input(\"Enter the Number\"))\n",
        "Maximum=max(a,b)1\n",
        "print(\"Maximum number is {0}\".format(Maximum))"
      ],
      "metadata": {
        "colab": {
          "base_uri": "https://localhost:8080/"
        },
        "id": "N23UJixVuyXF",
        "outputId": "51074879-2ce6-41a3-995a-52cdab5533e1"
      },
      "execution_count": null,
      "outputs": [
        {
          "output_type": "stream",
          "name": "stdout",
          "text": [
            "Enter the Number07\n",
            "Enter the Number17\n",
            "Maximum number is 17\n"
          ]
        }
      ]
    },
    {
      "cell_type": "code",
      "source": [
        "#Maximum of two numbers in Python    \"Using Ternary Operator\"\n",
        "\n",
        "a=int(input(\"Enter the Number\"))\n",
        "b=int(input(\"Enter the Number\"))\n",
        "print(a if a >= b else b)"
      ],
      "metadata": {
        "colab": {
          "base_uri": "https://localhost:8080/"
        },
        "id": "-4_wNoD0vMg0",
        "outputId": "01d15f73-779f-412d-b380-2282da367f61"
      },
      "execution_count": null,
      "outputs": [
        {
          "output_type": "stream",
          "name": "stdout",
          "text": [
            "Enter the Number7\n",
            "Enter the Number77\n",
            "77\n"
          ]
        }
      ]
    },
    {
      "cell_type": "code",
      "source": [
        "#Python Program to check Armstrong Number\n",
        "\n",
        "# Function to calculate x raised to the power y\n",
        "def power(x, y):\n",
        "\t\n",
        "\tif y == 0:\n",
        "\t\treturn 1\n",
        "\tif y % 2 == 0:\n",
        "\t\treturn power(x, y // 2) * power(x, y // 2)\n",
        "\t\t\n",
        "\treturn x * power(x, y // 2) * power(x, y // 2)\n",
        "\n",
        "# Function to calculate order of the number\n",
        "def order(x):\n",
        "\n",
        "\t# Variable to store of the number\n",
        "\tn = 0\n",
        "\twhile (x != 0):\n",
        "\t\tn = n + 1\n",
        "\t\tx = x // 10\n",
        "\t\t\n",
        "\treturn n\n",
        "\n",
        "# Function to check whether the given\n",
        "# number is Armstrong number or not\n",
        "def isArmstrong(x):\n",
        "\t\n",
        "\tn = order(x)\n",
        "\ttemp = x\n",
        "\tsum1 = 0\n",
        "\t\n",
        "\twhile (temp != 0):\n",
        "\t\tr = temp % 10\n",
        "\t\tsum1 = sum1 + power(r, n)\n",
        "\t\ttemp = temp // 10\n",
        "\n",
        "\t# If condition satisfies\n",
        "\treturn (sum1 == x)\n",
        "\n",
        "# Driver code\n",
        "x = 153\n",
        "print(isArmstrong(x))\n",
        "\n",
        "x = 1253\n",
        "print(isArmstrong(x))\n"
      ],
      "metadata": {
        "colab": {
          "base_uri": "https://localhost:8080/"
        },
        "id": "3vnSahgsvuB0",
        "outputId": "d27e0ac7-325b-4923-a791-49853382db5b"
      },
      "execution_count": null,
      "outputs": [
        {
          "output_type": "stream",
          "name": "stdout",
          "text": [
            "True\n",
            "False\n"
          ]
        }
      ]
    },
    {
      "cell_type": "code",
      "source": [
        "#Python program to print all Prime numbers in an Interval\n",
        "\n",
        "# Python program to print all\n",
        "# prime number in an interval\n",
        "\n",
        "def prime(x, y):\n",
        "\tprime_list = []\n",
        "\tfor i in range(x, y):\n",
        "\t\tif i == 0 or i == 1:\n",
        "\t\t\tcontinue\n",
        "\t\telse:\n",
        "\t\t\tfor j in range(2, int(i/2)+1):\n",
        "\t\t\t\tif i % j == 0:\n",
        "\t\t\t\t\tbreak\n",
        "\t\t\telse:\n",
        "\t\t\t\tprime_list.append(i)\n",
        "\treturn prime_list\n",
        "\n",
        "# Driver program\n",
        "starting_range = 2\n",
        "ending_range = 7\n",
        "lst = prime(starting_range, ending_range)\n",
        "if len(lst) == 0:\n",
        "\tprint(\"There are no prime numbers in this range\")\n",
        "else:\n",
        "\tprint(\"The prime numbers in this range are: \", lst)\n"
      ],
      "metadata": {
        "id": "SIhxl8U_zloF",
        "colab": {
          "base_uri": "https://localhost:8080/",
          "height": 0
        },
        "outputId": "5b4c4a0f-05ab-4390-973e-d3836d25d648"
      },
      "execution_count": 1,
      "outputs": [
        {
          "output_type": "stream",
          "name": "stdout",
          "text": [
            "The prime numbers in this range are:  [2, 3, 5]\n"
          ]
        }
      ]
    },
    {
      "cell_type": "code",
      "source": [
        "#Python program to check whether a number is Prime or not\n",
        "\n",
        "# Python program to check if\n",
        "# given number is prime or not\n",
        "\n",
        "num = 11\n",
        "\n",
        "# If given number is greater than 1\n",
        "if num > 1:\n",
        "\n",
        "\t# Iterate from 2 to n / 2\n",
        "\tfor i in range(2, int(num/2)+1):\n",
        "\n",
        "\t\t# If num is divisible by any number between\n",
        "\t\t# 2 and n / 2, it is not prime\n",
        "\t\tif (num % i) == 0:\n",
        "\t\t\tprint(num, \"is not a prime number\")\n",
        "\t\t\tbreak\n",
        "\telse:\n",
        "\t\tprint(num, \"is a prime number\")\n",
        "\n",
        "else:\n",
        "\tprint(num, \"is not a prime number\")\n"
      ],
      "metadata": {
        "colab": {
          "base_uri": "https://localhost:8080/",
          "height": 0
        },
        "id": "8DnxE9DD5lSC",
        "outputId": "d148f6bd-a81f-4f45-f7a4-d363c19df7f7"
      },
      "execution_count": 2,
      "outputs": [
        {
          "output_type": "stream",
          "name": "stdout",
          "text": [
            "11 is a prime number\n"
          ]
        }
      ]
    },
    {
      "cell_type": "code",
      "source": [
        "# Python Program for How to check if a given number is Fibonacci number?\n",
        "\n",
        "# python program to check if x is a perfect square\n",
        "import math\n",
        "\n",
        "# A utility function that returns true if x is perfect square\n",
        "def isPerfectSquare(x):\n",
        "\ts = int(math.sqrt(x))\n",
        "\treturn s*s == x\n",
        "\n",
        "# Returns true if n is a Fibonacci Number, else false\n",
        "def isFibonacci(n):\n",
        "\n",
        "\t# n is Fibonacci if one of 5*n*n + 4 or 5*n*n - 4 or both\n",
        "\t# is a perfect square\n",
        "\treturn isPerfectSquare(5*n*n + 4) or isPerfectSquare(5*n*n - 4)\n",
        "\t\n",
        "# A utility function to test above functions\n",
        "for i in range(1,11):\n",
        "\tif (isFibonacci(i) == True):\n",
        "\t\tprint (i,\"is a Fibonacci Number\")\n",
        "\telse:\n",
        "\t\tprint (i,\"is not a Fibonacci Number \")\n"
      ],
      "metadata": {
        "colab": {
          "base_uri": "https://localhost:8080/",
          "height": 0
        },
        "id": "N9UsARNM6DqF",
        "outputId": "a24ac115-0b77-404e-e3f8-ec84a0b956b7"
      },
      "execution_count": 4,
      "outputs": [
        {
          "output_type": "stream",
          "name": "stdout",
          "text": [
            "1 is a Fibonacci Number\n",
            "2 is a Fibonacci Number\n",
            "3 is a Fibonacci Number\n",
            "4 is not a Fibonacci Number \n",
            "5 is a Fibonacci Number\n",
            "6 is not a Fibonacci Number \n",
            "7 is not a Fibonacci Number \n",
            "8 is a Fibonacci Number\n",
            "9 is not a Fibonacci Number \n",
            "10 is not a Fibonacci Number \n"
          ]
        }
      ]
    },
    {
      "cell_type": "code",
      "source": [
        "#Program to print ASCII Value of a character\n",
        "print(\"Enter a String: \", end=\"\")\n",
        "text = input()\n",
        "textlength = len(text)\n",
        "for char in text:\n",
        "\tascii = ord(char)\n",
        "\tprint(char, \"\\t\", ascii)\n",
        "\n"
      ],
      "metadata": {
        "colab": {
          "base_uri": "https://localhost:8080/",
          "height": 0
        },
        "id": "EZpUOK2m6MC7",
        "outputId": "7de50a6e-ff23-4222-adf0-0a0daa3e7c11"
      },
      "execution_count": 7,
      "outputs": [
        {
          "output_type": "stream",
          "name": "stdout",
          "text": [
            "Enter a String: H\n",
            "H \t 72\n"
          ]
        }
      ]
    },
    {
      "cell_type": "code",
      "source": [
        "#Python Program for Sum of squares of first n natural numbers\n",
        "\n",
        "# Return the sum of\n",
        "# square of first n\n",
        "# natural numbers\n",
        "def squaresum(n) :\n",
        "\treturn (n * (n + 1) * (2 * n + 1)) // 6\n",
        "\n",
        "# Driven Program\n",
        "n = int(input(\"Enter the Number \"))\n",
        "print(squaresum(n))\n",
        "\t\t\t\t\t\t\t\t\t\t\t\t\t\n"
      ],
      "metadata": {
        "colab": {
          "base_uri": "https://localhost:8080/",
          "height": 0
        },
        "id": "7nBAj_m56imv",
        "outputId": "ac5aebcb-a77f-4d30-f54f-3d840fd0b015"
      },
      "execution_count": 10,
      "outputs": [
        {
          "output_type": "stream",
          "name": "stdout",
          "text": [
            "Enter the Number 4\n",
            "30\n"
          ]
        }
      ]
    },
    {
      "cell_type": "code",
      "source": [
        "# Python Program for cube sum of first n natural numbers\n",
        "\n",
        "# Simple Python program to find sum of series\n",
        "# with cubes of first n natural numbers\n",
        "\n",
        "# Returns the sum of series\n",
        "def sumOfSeries(n):\n",
        "\tsum = 0\n",
        "\tfor i in range(1, n+1):\n",
        "\t\tsum +=i*i*i\n",
        "\t\t\n",
        "\treturn sum\n",
        "\n",
        "\n",
        "# Driver Function\n",
        "n = int(input(\"Enter the Number \"))\n",
        "print(sumOfSeries(n))\n",
        "\n"
      ],
      "metadata": {
        "colab": {
          "base_uri": "https://localhost:8080/",
          "height": 0
        },
        "id": "F_JwsEyF7CJr",
        "outputId": "6c22f3ac-37b2-42b9-868e-4d2efd6677f6"
      },
      "execution_count": 12,
      "outputs": [
        {
          "output_type": "stream",
          "name": "stdout",
          "text": [
            "Enter the Number 5\n",
            "225\n"
          ]
        }
      ]
    },
    {
      "cell_type": "code",
      "source": [
        "#Python Program to find sum of array \n",
        "\n",
        "arr = []\n",
        "# input values to list\n",
        "arr = [12, 3, 4, 15]\n",
        "\n",
        "# sum() is an inbuilt function in python that adds\n",
        "# all the elements in list,set and tuples and returns\n",
        "# the value\n",
        "ans = sum(arr)\n",
        "\n",
        "# display sum\n",
        "print ('Sum of the array is ',ans)\n",
        "\n"
      ],
      "metadata": {
        "colab": {
          "base_uri": "https://localhost:8080/",
          "height": 0
        },
        "id": "2nQcRL-h7viD",
        "outputId": "6ef1a4a4-5ab2-4b24-c6c6-305e76c3d14b"
      },
      "execution_count": 13,
      "outputs": [
        {
          "output_type": "stream",
          "name": "stdout",
          "text": [
            "Sum of the array is  34\n"
          ]
        }
      ]
    },
    {
      "cell_type": "code",
      "source": [
        "#Python Program to find largest element in an array\n",
        "\n",
        "# Python3 program to find maximum\n",
        "# in arr[] of size n\n",
        "\n",
        "# python function to find maximum\n",
        "# in arr[] of size n\n",
        "def largest(arr,n):\n",
        "\n",
        "\t# Initialize maximum element\n",
        "\tmax = arr[0]\n",
        "\n",
        "\t# Traverse array elements from second\n",
        "\t# and compare every element with\n",
        "\t# current max\n",
        "\tfor i in range(1, n):\n",
        "\t\tif arr[i] > max:\n",
        "\t\t\tmax = arr[i]\n",
        "\treturn max\n",
        "\n",
        "# Driver Code\n",
        "arr = [10, 324, 45, 90, 9808]\n",
        "n = len(arr)\n",
        "Ans = largest(arr,n)\n",
        "print (\"Largest in given array is\",Ans)\n",
        "\n"
      ],
      "metadata": {
        "colab": {
          "base_uri": "https://localhost:8080/"
        },
        "id": "qPx8xGBY8N_z",
        "outputId": "0b0036a8-9e57-4ebe-dbb0-29a87377f90e"
      },
      "execution_count": 14,
      "outputs": [
        {
          "output_type": "stream",
          "name": "stdout",
          "text": [
            "Largest in given array is 9808\n"
          ]
        }
      ]
    },
    {
      "cell_type": "code",
      "source": [
        ""
      ],
      "metadata": {
        "id": "XloqwR8O82wT"
      },
      "execution_count": null,
      "outputs": []
    }
  ]
}